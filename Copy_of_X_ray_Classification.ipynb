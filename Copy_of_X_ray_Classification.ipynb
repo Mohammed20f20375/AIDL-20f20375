{
  "nbformat": 4,
  "nbformat_minor": 0,
  "metadata": {
    "colab": {
      "provenance": [],
      "include_colab_link": true
    },
    "kernelspec": {
      "name": "python3",
      "display_name": "Python 3"
    },
    "language_info": {
      "name": "python"
    }
  },
  "cells": [
    {
      "cell_type": "markdown",
      "metadata": {
        "id": "view-in-github",
        "colab_type": "text"
      },
      "source": [
        "<a href=\"https://colab.research.google.com/github/Mohammed20f20375/AIDL-20f20375/blob/main/Copy_of_X_ray_Classification.ipynb\" target=\"_parent\"><img src=\"https://colab.research.google.com/assets/colab-badge.svg\" alt=\"Open In Colab\"/></a>"
      ]
    },
    {
      "cell_type": "code",
      "execution_count": null,
      "metadata": {
        "colab": {
          "base_uri": "https://localhost:8080/"
        },
        "id": "fdzSpodGgbUk",
        "outputId": "fcfc58b6-139a-4374-c6fe-846eb236b47b"
      },
      "outputs": [
        {
          "output_type": "stream",
          "name": "stdout",
          "text": [
            "Mounted at /content/drive/\n"
          ]
        }
      ],
      "source": [
        "#My dataset is available in googledrive; so I am accessing my drive from colab\n",
        "from google.colab import drive\n",
        "drive.mount('/content/drive/', force_remount=True)\n",
        "#Once this is executed, you will see your drive appearing on the left hand side"
      ]
    },
    {
      "cell_type": "code",
      "source": [
        "# Define paths to the dataset\n",
        "train_dir = '/content/drive/MyDrive/Xray_Classifier/Xray_Classifier/train'  # path of train folder for both classes x-ray and non x-ray\n",
        "test_dir = '/content/drive/MyDrive/Xray_Classifier/Xray_Classifier/test'    #  path of test folder for both classes x-ray and non x-ray"
      ],
      "metadata": {
        "id": "WlwfmcDwjsBB"
      },
      "execution_count": null,
      "outputs": []
    },
    {
      "cell_type": "code",
      "source": [
        "import os\n",
        "print(len(os.listdir('/content/drive/MyDrive/Xray_Classifier/Xray_Classifier/train/xray')))\n",
        "print(len(os.listdir('/content/drive/MyDrive/Xray_Classifier/Xray_Classifier/train/non_xray')))\n",
        "print(len(os.listdir('/content/drive/MyDrive/Xray_Classifier/Xray_Classifier/test/xray')))\n",
        "print(len(os.listdir('/content/drive/MyDrive/Xray_Classifier/Xray_Classifier/test/non_xray')))"
      ],
      "metadata": {
        "colab": {
          "base_uri": "https://localhost:8080/"
        },
        "id": "PhRcy_v6kEzJ",
        "outputId": "ac2d55e6-ca07-4bdc-d2f0-ba9bd44f3af0"
      },
      "execution_count": null,
      "outputs": [
        {
          "output_type": "stream",
          "name": "stdout",
          "text": [
            "565\n",
            "621\n",
            "565\n",
            "551\n"
          ]
        }
      ]
    },
    {
      "cell_type": "code",
      "source": [
        "import tensorflow as tf\n",
        "from tensorflow.keras.preprocessing.image import ImageDataGenerator\n",
        "\n",
        "# Create ImageDataGenerator for training set\n",
        "train_datagen = ImageDataGenerator(\n",
        "    rescale=1./255,\n",
        "    validation_split=0.2  # Split 20% of the images for validation\n",
        ")\n",
        "\n",
        "# Load and prepare training data\n",
        "train_data = train_datagen.flow_from_directory(\n",
        "    train_dir,\n",
        "    target_size=(256,256),\n",
        "    batch_size=32,\n",
        "    class_mode='binary',  # 'binary' for binary classification (x-ray vs. non x-ray)\n",
        "    subset='training'  # Specify 'training' for the training set\n",
        ")\n",
        "\n",
        "# Create ImageDataGenerator for validation set\n",
        "validation_datagen = ImageDataGenerator(\n",
        "    rescale=1./255,\n",
        "    validation_split=0.2  # Note: Using the same validation split as in the training set\n",
        ")\n",
        "\n",
        "# Load and prepare validation data\n",
        "validation_data = validation_datagen.flow_from_directory(\n",
        "    train_dir,\n",
        "    target_size=(256,256),\n",
        "    batch_size=32,\n",
        "    class_mode='binary',\n",
        "    subset='validation'  # Specify 'validation' for the validation set\n",
        ")"
      ],
      "metadata": {
        "colab": {
          "base_uri": "https://localhost:8080/"
        },
        "id": "GdMrUxGbka5g",
        "outputId": "fb5d04ad-de3e-4b2e-96d8-f6126dfa1583"
      },
      "execution_count": null,
      "outputs": [
        {
          "output_type": "stream",
          "name": "stdout",
          "text": [
            "Found 949 images belonging to 2 classes.\n",
            "Found 236 images belonging to 2 classes.\n"
          ]
        }
      ]
    },
    {
      "cell_type": "code",
      "source": [
        "from tensorflow import keras\n",
        "from keras import Sequential\n",
        "from keras.layers import Dense,Conv2D,MaxPooling2D,Flatten,BatchNormalization,UpSampling2D, Dropout"
      ],
      "metadata": {
        "id": "XUIvL3t6kdbJ"
      },
      "execution_count": null,
      "outputs": []
    },
    {
      "cell_type": "code",
      "source": [
        "# create CNN model\n",
        "\n",
        "model = Sequential()\n",
        "\n",
        "model.add(Conv2D(32,kernel_size=(3,3),padding='valid',activation='relu',input_shape=(256,256,3)))  # 32 filters\n",
        "#model.add(BatchNormalization())  # added to reduce overfitting\n",
        "model.add(MaxPooling2D(pool_size=(2,2),strides=2,padding='valid'))\n",
        "\n",
        "model.add(Conv2D(64,kernel_size=(3,3),padding='valid',activation='relu'))\n",
        "#model.add(BatchNormalization())  # added to reduce overfitting\n",
        "model.add(MaxPooling2D(pool_size=(2,2),strides=2,padding='valid'))\n",
        "\n",
        "model.add(Conv2D(128,kernel_size=(3,3),padding='valid',activation='relu'))\n",
        "#model.add(BatchNormalization())  # added to reduce overfitting\n",
        "model.add(MaxPooling2D(pool_size=(2,2),strides=2,padding='valid'))\n",
        "\n",
        "model.add(Flatten())\n",
        "\n",
        "model.add(Dense(128,activation='relu')) #feature reduction\n",
        "#model.add(Dropout(0.1))  # added to reduce overfitting\n",
        "model.add(Dense(64,activation='relu'))\n",
        "#model.add(Dropout(0.1))  # added to reduce overfitting\n",
        "model.add(Dense(1,activation='sigmoid'))  #output layer"
      ],
      "metadata": {
        "id": "QMCWxgAakdgG",
        "colab": {
          "base_uri": "https://localhost:8080/"
        },
        "outputId": "209ef986-910c-409c-8867-3cd07599409b"
      },
      "execution_count": null,
      "outputs": [
        {
          "output_type": "stream",
          "name": "stderr",
          "text": [
            "/usr/local/lib/python3.10/dist-packages/keras/src/layers/convolutional/base_conv.py:107: UserWarning: Do not pass an `input_shape`/`input_dim` argument to a layer. When using Sequential models, prefer using an `Input(shape)` object as the first layer in the model instead.\n",
            "  super().__init__(activity_regularizer=activity_regularizer, **kwargs)\n"
          ]
        }
      ]
    },
    {
      "cell_type": "code",
      "source": [
        "from keras.optimizers import Adam\n",
        "model.compile(optimizer=Adam(learning_rate=0.001),loss='binary_crossentropy',metrics=['accuracy'])\n",
        "#binary_crossentropy - binary classification"
      ],
      "metadata": {
        "id": "KFg6ky9pkdiK"
      },
      "execution_count": null,
      "outputs": []
    },
    {
      "cell_type": "code",
      "source": [
        "history = model.fit(train_data, epochs=30, validation_data=validation_data)"
      ],
      "metadata": {
        "colab": {
          "base_uri": "https://localhost:8080/"
        },
        "id": "K18xnZLHkdj_",
        "outputId": "bdaddcf9-94cc-40f0-a342-7c24de74e8c6"
      },
      "execution_count": null,
      "outputs": [
        {
          "output_type": "stream",
          "name": "stdout",
          "text": [
            "Epoch 1/30\n"
          ]
        },
        {
          "output_type": "stream",
          "name": "stderr",
          "text": [
            "/usr/local/lib/python3.10/dist-packages/keras/src/trainers/data_adapters/py_dataset_adapter.py:122: UserWarning: Your `PyDataset` class should call `super().__init__(**kwargs)` in its constructor. `**kwargs` can include `workers`, `use_multiprocessing`, `max_queue_size`. Do not pass these arguments to `fit()`, as they will be ignored.\n",
            "  self._warn_if_super_not_called()\n"
          ]
        },
        {
          "output_type": "stream",
          "name": "stdout",
          "text": [
            "\u001b[1m30/30\u001b[0m \u001b[32m━━━━━━━━━━━━━━━━━━━━\u001b[0m\u001b[37m\u001b[0m \u001b[1m219s\u001b[0m 6s/step - accuracy: 0.7560 - loss: 0.4938 - val_accuracy: 0.8729 - val_loss: 0.8595\n",
            "Epoch 2/30\n",
            "\u001b[1m30/30\u001b[0m \u001b[32m━━━━━━━━━━━━━━━━━━━━\u001b[0m\u001b[37m\u001b[0m \u001b[1m162s\u001b[0m 5s/step - accuracy: 0.9850 - loss: 0.0593 - val_accuracy: 0.9746 - val_loss: 0.1081\n",
            "Epoch 3/30\n",
            "\u001b[1m30/30\u001b[0m \u001b[32m━━━━━━━━━━━━━━━━━━━━\u001b[0m\u001b[37m\u001b[0m \u001b[1m209s\u001b[0m 6s/step - accuracy: 0.9737 - loss: 0.0804 - val_accuracy: 0.9661 - val_loss: 0.1988\n",
            "Epoch 4/30\n",
            "\u001b[1m30/30\u001b[0m \u001b[32m━━━━━━━━━━━━━━━━━━━━\u001b[0m\u001b[37m\u001b[0m \u001b[1m193s\u001b[0m 5s/step - accuracy: 1.0000 - loss: 9.6378e-04 - val_accuracy: 0.9788 - val_loss: 0.2145\n",
            "Epoch 5/30\n",
            "\u001b[1m30/30\u001b[0m \u001b[32m━━━━━━━━━━━━━━━━━━━━\u001b[0m\u001b[37m\u001b[0m \u001b[1m199s\u001b[0m 5s/step - accuracy: 1.0000 - loss: 9.8546e-05 - val_accuracy: 0.9831 - val_loss: 0.1759\n",
            "Epoch 6/30\n",
            "\u001b[1m30/30\u001b[0m \u001b[32m━━━━━━━━━━━━━━━━━━━━\u001b[0m\u001b[37m\u001b[0m \u001b[1m201s\u001b[0m 5s/step - accuracy: 1.0000 - loss: 1.3346e-05 - val_accuracy: 0.9831 - val_loss: 0.1843\n",
            "Epoch 7/30\n",
            "\u001b[1m30/30\u001b[0m \u001b[32m━━━━━━━━━━━━━━━━━━━━\u001b[0m\u001b[37m\u001b[0m \u001b[1m201s\u001b[0m 5s/step - accuracy: 1.0000 - loss: 1.0235e-05 - val_accuracy: 0.9831 - val_loss: 0.1846\n",
            "Epoch 8/30\n",
            "\u001b[1m30/30\u001b[0m \u001b[32m━━━━━━━━━━━━━━━━━━━━\u001b[0m\u001b[37m\u001b[0m \u001b[1m156s\u001b[0m 5s/step - accuracy: 1.0000 - loss: 1.0608e-05 - val_accuracy: 0.9831 - val_loss: 0.1884\n",
            "Epoch 9/30\n",
            "\u001b[1m30/30\u001b[0m \u001b[32m━━━━━━━━━━━━━━━━━━━━\u001b[0m\u001b[37m\u001b[0m \u001b[1m202s\u001b[0m 5s/step - accuracy: 1.0000 - loss: 8.2314e-06 - val_accuracy: 0.9831 - val_loss: 0.1903\n",
            "Epoch 10/30\n",
            "\u001b[1m30/30\u001b[0m \u001b[32m━━━━━━━━━━━━━━━━━━━━\u001b[0m\u001b[37m\u001b[0m \u001b[1m157s\u001b[0m 5s/step - accuracy: 1.0000 - loss: 8.3549e-06 - val_accuracy: 0.9831 - val_loss: 0.1935\n",
            "Epoch 11/30\n",
            "\u001b[1m30/30\u001b[0m \u001b[32m━━━━━━━━━━━━━━━━━━━━\u001b[0m\u001b[37m\u001b[0m \u001b[1m159s\u001b[0m 5s/step - accuracy: 1.0000 - loss: 2.7023e-05 - val_accuracy: 0.9831 - val_loss: 0.1978\n",
            "Epoch 12/30\n",
            "\u001b[1m30/30\u001b[0m \u001b[32m━━━━━━━━━━━━━━━━━━━━\u001b[0m\u001b[37m\u001b[0m \u001b[1m203s\u001b[0m 5s/step - accuracy: 1.0000 - loss: 8.4124e-06 - val_accuracy: 0.9831 - val_loss: 0.2010\n",
            "Epoch 13/30\n",
            "\u001b[1m30/30\u001b[0m \u001b[32m━━━━━━━━━━━━━━━━━━━━\u001b[0m\u001b[37m\u001b[0m \u001b[1m159s\u001b[0m 5s/step - accuracy: 1.0000 - loss: 1.1884e-05 - val_accuracy: 0.9831 - val_loss: 0.2044\n",
            "Epoch 14/30\n",
            "\u001b[1m30/30\u001b[0m \u001b[32m━━━━━━━━━━━━━━━━━━━━\u001b[0m\u001b[37m\u001b[0m \u001b[1m209s\u001b[0m 6s/step - accuracy: 1.0000 - loss: 6.6229e-06 - val_accuracy: 0.9831 - val_loss: 0.2064\n",
            "Epoch 15/30\n",
            "\u001b[1m30/30\u001b[0m \u001b[32m━━━━━━━━━━━━━━━━━━━━\u001b[0m\u001b[37m\u001b[0m \u001b[1m192s\u001b[0m 5s/step - accuracy: 1.0000 - loss: 2.3851e-06 - val_accuracy: 0.9831 - val_loss: 0.2101\n",
            "Epoch 16/30\n",
            "\u001b[1m30/30\u001b[0m \u001b[32m━━━━━━━━━━━━━━━━━━━━\u001b[0m\u001b[37m\u001b[0m \u001b[1m156s\u001b[0m 5s/step - accuracy: 1.0000 - loss: 3.4794e-06 - val_accuracy: 0.9831 - val_loss: 0.2103\n",
            "Epoch 17/30\n",
            "\u001b[1m30/30\u001b[0m \u001b[32m━━━━━━━━━━━━━━━━━━━━\u001b[0m\u001b[37m\u001b[0m \u001b[1m155s\u001b[0m 5s/step - accuracy: 1.0000 - loss: 3.9060e-06 - val_accuracy: 0.9831 - val_loss: 0.2125\n",
            "Epoch 18/30\n",
            "\u001b[1m30/30\u001b[0m \u001b[32m━━━━━━━━━━━━━━━━━━━━\u001b[0m\u001b[37m\u001b[0m \u001b[1m156s\u001b[0m 5s/step - accuracy: 1.0000 - loss: 4.0851e-06 - val_accuracy: 0.9831 - val_loss: 0.2149\n",
            "Epoch 19/30\n",
            "\u001b[1m30/30\u001b[0m \u001b[32m━━━━━━━━━━━━━━━━━━━━\u001b[0m\u001b[37m\u001b[0m \u001b[1m202s\u001b[0m 5s/step - accuracy: 1.0000 - loss: 3.0771e-06 - val_accuracy: 0.9831 - val_loss: 0.2155\n",
            "Epoch 20/30\n",
            "\u001b[1m30/30\u001b[0m \u001b[32m━━━━━━━━━━━━━━━━━━━━\u001b[0m\u001b[37m\u001b[0m \u001b[1m201s\u001b[0m 5s/step - accuracy: 1.0000 - loss: 3.5226e-06 - val_accuracy: 0.9831 - val_loss: 0.2186\n",
            "Epoch 21/30\n",
            "\u001b[1m30/30\u001b[0m \u001b[32m━━━━━━━━━━━━━━━━━━━━\u001b[0m\u001b[37m\u001b[0m \u001b[1m204s\u001b[0m 5s/step - accuracy: 1.0000 - loss: 6.5944e-06 - val_accuracy: 0.9831 - val_loss: 0.2201\n",
            "Epoch 22/30\n",
            "\u001b[1m30/30\u001b[0m \u001b[32m━━━━━━━━━━━━━━━━━━━━\u001b[0m\u001b[37m\u001b[0m \u001b[1m203s\u001b[0m 5s/step - accuracy: 1.0000 - loss: 7.6847e-06 - val_accuracy: 0.9831 - val_loss: 0.2222\n",
            "Epoch 23/30\n",
            "\u001b[1m30/30\u001b[0m \u001b[32m━━━━━━━━━━━━━━━━━━━━\u001b[0m\u001b[37m\u001b[0m \u001b[1m203s\u001b[0m 5s/step - accuracy: 1.0000 - loss: 1.8790e-06 - val_accuracy: 0.9831 - val_loss: 0.2231\n",
            "Epoch 24/30\n",
            "\u001b[1m30/30\u001b[0m \u001b[32m━━━━━━━━━━━━━━━━━━━━\u001b[0m\u001b[37m\u001b[0m \u001b[1m160s\u001b[0m 5s/step - accuracy: 1.0000 - loss: 1.7080e-06 - val_accuracy: 0.9831 - val_loss: 0.2251\n",
            "Epoch 25/30\n",
            "\u001b[1m30/30\u001b[0m \u001b[32m━━━━━━━━━━━━━━━━━━━━\u001b[0m\u001b[37m\u001b[0m \u001b[1m160s\u001b[0m 5s/step - accuracy: 1.0000 - loss: 1.3048e-06 - val_accuracy: 0.9831 - val_loss: 0.2262\n",
            "Epoch 26/30\n",
            "\u001b[1m30/30\u001b[0m \u001b[32m━━━━━━━━━━━━━━━━━━━━\u001b[0m\u001b[37m\u001b[0m \u001b[1m157s\u001b[0m 5s/step - accuracy: 1.0000 - loss: 7.4035e-07 - val_accuracy: 0.9831 - val_loss: 0.2279\n",
            "Epoch 27/30\n",
            "\u001b[1m30/30\u001b[0m \u001b[32m━━━━━━━━━━━━━━━━━━━━\u001b[0m\u001b[37m\u001b[0m \u001b[1m157s\u001b[0m 5s/step - accuracy: 1.0000 - loss: 7.5417e-07 - val_accuracy: 0.9831 - val_loss: 0.2295\n",
            "Epoch 28/30\n",
            "\u001b[1m30/30\u001b[0m \u001b[32m━━━━━━━━━━━━━━━━━━━━\u001b[0m\u001b[37m\u001b[0m \u001b[1m209s\u001b[0m 5s/step - accuracy: 1.0000 - loss: 7.7633e-07 - val_accuracy: 0.9831 - val_loss: 0.2304\n",
            "Epoch 29/30\n",
            "\u001b[1m30/30\u001b[0m \u001b[32m━━━━━━━━━━━━━━━━━━━━\u001b[0m\u001b[37m\u001b[0m \u001b[1m194s\u001b[0m 5s/step - accuracy: 1.0000 - loss: 1.9509e-06 - val_accuracy: 0.9831 - val_loss: 0.2310\n",
            "Epoch 30/30\n",
            "\u001b[1m30/30\u001b[0m \u001b[32m━━━━━━━━━━━━━━━━━━━━\u001b[0m\u001b[37m\u001b[0m \u001b[1m205s\u001b[0m 5s/step - accuracy: 1.0000 - loss: 1.0519e-06 - val_accuracy: 0.9831 - val_loss: 0.2330\n"
          ]
        }
      ]
    },
    {
      "cell_type": "code",
      "source": [
        "import matplotlib.pyplot as plt\n",
        "\n",
        "plt.plot(history.history['accuracy'],color='red',label='train')\n",
        "plt.plot(history.history['val_accuracy'],color='blue',label='validation')\n",
        "plt.legend()\n",
        "plt.show()"
      ],
      "metadata": {
        "id": "laaYjoK7kdlz",
        "colab": {
          "base_uri": "https://localhost:8080/",
          "height": 430
        },
        "outputId": "f4103573-4f1e-482a-899f-d25a58d0ae11"
      },
      "execution_count": null,
      "outputs": [
        {
          "output_type": "display_data",
          "data": {
            "text/plain": [
              "<Figure size 640x480 with 1 Axes>"
            ],
            "image/png": "[encoded data removed]"
          },
          "metadata": {}
        }
      ]
    },
    {
      "cell_type": "code",
      "source": [
        "plt.plot(history.history['loss'],color='red',label='train')\n",
        "plt.plot(history.history['val_loss'],color='blue',label='validation')\n",
        "plt.legend()\n",
        "plt.show()"
      ],
      "metadata": {
        "id": "6lMYJiDQkoTG",
        "colab": {
          "base_uri": "https://localhost:8080/",
          "height": 430
        },
        "outputId": "59b74093-1f34-4793-d88e-3997e346d6c2"
      },
      "execution_count": null,
      "outputs": [
        {
          "output_type": "display_data",
          "data": {
            "text/plain": [
              "<Figure size 640x480 with 1 Axes>"
            ],
            "image/png": "[encoded data removed]"
          },
          "metadata": {}
        }
      ]
    },
    {
      "cell_type": "code",
      "source": [
        "test_datagen = ImageDataGenerator(rescale=1./255)\n",
        "test_data = test_datagen.flow_from_directory(\n",
        "    test_dir,\n",
        "    target_size=(256,256),\n",
        "    batch_size=32,\n",
        "    class_mode='binary'\n",
        ")"
      ],
      "metadata": {
        "id": "ce8LkunykoU2",
        "colab": {
          "base_uri": "https://localhost:8080/"
        },
        "outputId": "26bc8c8c-1060-4133-e779-a06b757befb8"
      },
      "execution_count": null,
      "outputs": [
        {
          "output_type": "stream",
          "name": "stdout",
          "text": [
            "Found 1115 images belonging to 2 classes.\n"
          ]
        }
      ]
    },
    {
      "cell_type": "code",
      "source": [
        "#predict the test data\n",
        "predictions = model.predict(test_data)\n",
        "print(predictions)"
      ],
      "metadata": {
        "id": "xvoD8i9MkoW9",
        "colab": {
          "base_uri": "https://localhost:8080/"
        },
        "outputId": "5677f12a-b4ae-46f5-94a3-31178aac36bc"
      },
      "execution_count": null,
      "outputs": [
        {
          "output_type": "stream",
          "name": "stdout",
          "text": [
            "\u001b[1m35/35\u001b[0m \u001b[32m━━━━━━━━━━━━━━━━━━━━\u001b[0m\u001b[37m\u001b[0m \u001b[1m126s\u001b[0m 4s/step\n",
            "[[0.0000000e+00]\n",
            " [0.0000000e+00]\n",
            " [2.0667654e-33]\n",
            " ...\n",
            " [0.0000000e+00]\n",
            " [3.1399528e-36]\n",
            " [0.0000000e+00]]\n"
          ]
        }
      ]
    },
    {
      "cell_type": "code",
      "source": [
        "len(predictions)"
      ],
      "metadata": {
        "id": "6DWCf36OktM-",
        "colab": {
          "base_uri": "https://localhost:8080/"
        },
        "outputId": "1cb85f44-e796-4814-a09b-ce28c60d16ce"
      },
      "execution_count": null,
      "outputs": [
        {
          "output_type": "execute_result",
          "data": {
            "text/plain": [
              "437"
            ]
          },
          "metadata": {},
          "execution_count": 34
        }
      ]
    },
    {
      "cell_type": "code",
      "source": [
        "from sklearn.metrics import confusion_matrix, classification_report\n",
        "\n",
        "# Assuming you have ground truth labels (true_labels) and predicted labels (predictions)\n",
        "true_labels = test_data.classes\n",
        "predicted_labels = (predictions > 0.5).astype(int)  # Adjust the threshold as needed\n",
        "\n",
        "# Calculate confusion matrix\n",
        "cm = confusion_matrix(true_labels, predicted_labels)\n",
        "\n",
        "# Print confusion matrix\n",
        "print(\"Confusion Matrix:\")\n",
        "print(cm)\n",
        "\n",
        "# Print classification report\n",
        "print(\"Classification Report:\")\n",
        "print(classification_report(true_labels, predicted_labels))"
      ],
      "metadata": {
        "id": "kyIREOLykxy1",
        "colab": {
          "base_uri": "https://localhost:8080/"
        },
        "outputId": "385c6b6c-a6dd-4b8c-c235-c5f61fe7d2f3"
      },
      "execution_count": null,
      "outputs": [
        {
          "output_type": "stream",
          "name": "stdout",
          "text": [
            "Confusion Matrix:\n",
            "[[275 276]\n",
            " [272 292]]\n",
            "Classification Report:\n",
            "              precision    recall  f1-score   support\n",
            "\n",
            "           0       0.50      0.50      0.50       551\n",
            "           1       0.51      0.52      0.52       564\n",
            "\n",
            "    accuracy                           0.51      1115\n",
            "   macro avg       0.51      0.51      0.51      1115\n",
            "weighted avg       0.51      0.51      0.51      1115\n",
            "\n"
          ]
        }
      ]
    },
    {
      "cell_type": "code",
      "source": [
        "# Pre-trained CNN"
      ],
      "metadata": {
        "id": "uD7wbWwP9QUY"
      },
      "execution_count": null,
      "outputs": []
    },
    {
      "cell_type": "code",
      "source": [
        "#My dataset is available in googledrive; so I am accessing my drive from colab\n",
        "from google.colab import drive\n",
        "drive.mount('/content/drive/', force_remount=True)\n",
        "#Once this is executed, you will see your drive appearing on the left hand side"
      ],
      "metadata": {
        "id": "iumOwc309Qap",
        "colab": {
          "base_uri": "https://localhost:8080/"
        },
        "outputId": "b56b6d69-665a-4f14-f4fe-62d29cbffb98"
      },
      "execution_count": null,
      "outputs": [
        {
          "output_type": "stream",
          "name": "stdout",
          "text": [
            "Mounted at /content/drive/\n"
          ]
        }
      ]
    },
    {
      "cell_type": "code",
      "source": [
        "# Define paths to the dataset\n",
        "train_dir = '/content/drive/MyDrive/Xray_Classifier/Xray_Classifier/train'  # path of train folder for both classes x-ray and non x-ray\n",
        "test_dir = '/content/drive/MyDrive/Xray_Classifier/Xray_Classifier/test'    # path of test folder for both classes x-ray and non x-ray"
      ],
      "metadata": {
        "id": "Gd0yuzu-9Qc7"
      },
      "execution_count": null,
      "outputs": []
    },
    {
      "cell_type": "code",
      "source": [
        "import os\n",
        "print(len(os.listdir('/content/drive/MyDrive/Xray_Classifier/Xray_Classifier/train/xray')))\n",
        "print(len(os.listdir('/content/drive/MyDrive/Xray_Classifier/Xray_Classifier/train/non_xray')))\n",
        "print(len(os.listdir('/content/drive/MyDrive/Xray_Classifier/Xray_Classifier/test/xray')))\n",
        "print(len(os.listdir('/content/drive/MyDrive/Xray_Classifier/Xray_Classifier/test/non_xray')))"
      ],
      "metadata": {
        "id": "MvBRXEZk9QfR",
        "colab": {
          "base_uri": "https://localhost:8080/"
        },
        "outputId": "f8d1c1f2-5d22-4862-88a0-e5ac520bcac7"
      },
      "execution_count": null,
      "outputs": [
        {
          "output_type": "stream",
          "name": "stdout",
          "text": [
            "565\n",
            "621\n",
            "565\n",
            "551\n"
          ]
        }
      ]
    },
    {
      "cell_type": "code",
      "source": [
        "import tensorflow as tf\n",
        "from tensorflow.keras.preprocessing.image import ImageDataGenerator\n",
        "\n",
        "# Create ImageDataGenerator for training set\n",
        "train_datagen = ImageDataGenerator(\n",
        "    rescale=1./255,\n",
        "    validation_split=0.2  # Split 20% of the images for validation\n",
        ")\n",
        "\n",
        "# Load and prepare training data\n",
        "train_data = train_datagen.flow_from_directory(\n",
        "    train_dir,\n",
        "    target_size=(256,256),\n",
        "    batch_size=32,\n",
        "    class_mode='binary',  # 'binary' for binary classification (x-ray vs. non x-ray)\n",
        "    subset='training'  # Specify 'training' for the training set\n",
        ")\n",
        "\n",
        "# Create ImageDataGenerator for validation set\n",
        "validation_datagen = ImageDataGenerator(\n",
        "    rescale=1./255,\n",
        "    validation_split=0.2  # Note: Using the same validation split as in the training set\n",
        ")\n",
        "\n",
        "# Load and prepare validation data\n",
        "validation_data = validation_datagen.flow_from_directory(\n",
        "    train_dir,\n",
        "    target_size=(256,256),\n",
        "    batch_size=32,\n",
        "    class_mode='binary',\n",
        "    subset='validation'  # Specify 'validation' for the validation set\n",
        ")"
      ],
      "metadata": {
        "id": "sK11e4gO9lqe",
        "colab": {
          "base_uri": "https://localhost:8080/"
        },
        "outputId": "6711bb13-32ac-4dac-fab7-a1165bfb6872"
      },
      "execution_count": null,
      "outputs": [
        {
          "output_type": "stream",
          "name": "stdout",
          "text": [
            "Found 949 images belonging to 2 classes.\n",
            "Found 236 images belonging to 2 classes.\n"
          ]
        }
      ]
    },
    {
      "cell_type": "code",
      "source": [
        "from tensorflow import keras\n",
        "from keras import Sequential\n",
        "from keras.layers import Dense,Conv2D,MaxPooling2D,Flatten\n",
        "\n",
        "resnet_model = Sequential()    #ResNet50 is a pre-trained model\n",
        "pretrained_model = tf.keras.applications.ResNet50(include_top = False, #because i have my own image of a diff dimension\n",
        "                                                input_shape = (256,256,3),\n",
        "                                                pooling = 'max', classes = 2,\n",
        "                                                weights = 'imagenet')\n",
        "for layer in pretrained_model.layers:\n",
        "    layer.trainable = False  #all layers in the Resnet50 is not trainable; keep those weights; I am going to add my own i/p and other layers\n",
        "\n",
        "resnet_model.add(pretrained_model)\n",
        "resnet_model.add(Flatten())\n",
        "resnet_model.add(Dense(512, activation = 'relu'))\n",
        "resnet_model.add(Dense(1, activation = 'sigmoid'))"
      ],
      "metadata": {
        "id": "XTaPlly69ls1",
        "colab": {
          "base_uri": "https://localhost:8080/"
        },
        "outputId": "b4ca829b-1091-47f1-e230-1f8fbe390c37"
      },
      "execution_count": null,
      "outputs": [
        {
          "output_type": "stream",
          "name": "stdout",
          "text": [
            "Downloading data from https://storage.googleapis.com/tensorflow/keras-applications/resnet/resnet50_weights_tf_dim_ordering_tf_kernels_notop.h5\n",
            "\u001b[1m94765736/94765736\u001b[0m \u001b[32m━━━━━━━━━━━━━━━━━━━━\u001b[0m\u001b[37m\u001b[0m \u001b[1m5s\u001b[0m 0us/step\n"
          ]
        }
      ]
    },
    {
      "cell_type": "code",
      "source": [
        "resnet_model.summary()"
      ],
      "metadata": {
        "id": "OAiiDTW49lvJ",
        "colab": {
          "base_uri": "https://localhost:8080/",
          "height": 272
        },
        "outputId": "c85633e0-4ae9-4c1d-eb76-ec7ec6363369"
      },
      "execution_count": null,
      "outputs": [
        {
          "output_type": "display_data",
          "data": {
            "text/plain": [
              "\u001b[1mModel: \"sequential\"\u001b[0m\n"
            ],
            "text/html": [
              "<pre style=\"white-space:pre;overflow-x:auto;line-height:normal;font-family:Menlo,'DejaVu Sans Mono',consolas,'Courier New',monospace\"><span style=\"font-weight: bold\">Model: \"sequential\"</span>\n",
              "</pre>\n"
            ]
          },
          "metadata": {}
        },
        {
          "output_type": "display_data",
          "data": {
            "text/plain": [
              "┏━━━━━━━━━━━━━━━━━━━━━━━━━━━━━━━━━━━━━━┳━━━━━━━━━━━━━━━━━━━━━━━━━━━━━┳━━━━━━━━━━━━━━━━━┓\n",
              "┃\u001b[1m \u001b[0m\u001b[1mLayer (type)                        \u001b[0m\u001b[1m \u001b[0m┃\u001b[1m \u001b[0m\u001b[1mOutput Shape               \u001b[0m\u001b[1m \u001b[0m┃\u001b[1m \u001b[0m\u001b[1m        Param #\u001b[0m\u001b[1m \u001b[0m┃\n",
              "┡━━━━━━━━━━━━━━━━━━━━━━━━━━━━━━━━━━━━━━╇━━━━━━━━━━━━━━━━━━━━━━━━━━━━━╇━━━━━━━━━━━━━━━━━┩\n",
              "│ resnet50 (\u001b[38;5;33mFunctional\u001b[0m)                │ (\u001b[38;5;45mNone\u001b[0m, \u001b[38;5;34m2048\u001b[0m)                │      \u001b[38;5;34m23,587,712\u001b[0m │\n",
              "├──────────────────────────────────────┼─────────────────────────────┼─────────────────┤\n",
              "│ flatten (\u001b[38;5;33mFlatten\u001b[0m)                    │ (\u001b[38;5;45mNone\u001b[0m, \u001b[38;5;34m2048\u001b[0m)                │               \u001b[38;5;34m0\u001b[0m │\n",
              "├──────────────────────────────────────┼─────────────────────────────┼─────────────────┤\n",
              "│ dense (\u001b[38;5;33mDense\u001b[0m)                        │ (\u001b[38;5;45mNone\u001b[0m, \u001b[38;5;34m512\u001b[0m)                 │       \u001b[38;5;34m1,049,088\u001b[0m │\n",
              "├──────────────────────────────────────┼─────────────────────────────┼─────────────────┤\n",
              "│ dense_1 (\u001b[38;5;33mDense\u001b[0m)                      │ (\u001b[38;5;45mNone\u001b[0m, \u001b[38;5;34m1\u001b[0m)                   │             \u001b[38;5;34m513\u001b[0m │\n",
              "└──────────────────────────────────────┴─────────────────────────────┴─────────────────┘\n"
            ],
            "text/html": [
              "<pre style=\"white-space:pre;overflow-x:auto;line-height:normal;font-family:Menlo,'DejaVu Sans Mono',consolas,'Courier New',monospace\">┏━━━━━━━━━━━━━━━━━━━━━━━━━━━━━━━━━━━━━━┳━━━━━━━━━━━━━━━━━━━━━━━━━━━━━┳━━━━━━━━━━━━━━━━━┓\n",
              "┃<span style=\"font-weight: bold\"> Layer (type)                         </span>┃<span style=\"font-weight: bold\"> Output Shape                </span>┃<span style=\"font-weight: bold\">         Param # </span>┃\n",
              "┡━━━━━━━━━━━━━━━━━━━━━━━━━━━━━━━━━━━━━━╇━━━━━━━━━━━━━━━━━━━━━━━━━━━━━╇━━━━━━━━━━━━━━━━━┩\n",
              "│ resnet50 (<span style=\"color: #0087ff; text-decoration-color: #0087ff\">Functional</span>)                │ (<span style=\"color: #00d7ff; text-decoration-color: #00d7ff\">None</span>, <span style=\"color: #00af00; text-decoration-color: #00af00\">2048</span>)                │      <span style=\"color: #00af00; text-decoration-color: #00af00\">23,587,712</span> │\n",
              "├──────────────────────────────────────┼─────────────────────────────┼─────────────────┤\n",
              "│ flatten (<span style=\"color: #0087ff; text-decoration-color: #0087ff\">Flatten</span>)                    │ (<span style=\"color: #00d7ff; text-decoration-color: #00d7ff\">None</span>, <span style=\"color: #00af00; text-decoration-color: #00af00\">2048</span>)                │               <span style=\"color: #00af00; text-decoration-color: #00af00\">0</span> │\n",
              "├──────────────────────────────────────┼─────────────────────────────┼─────────────────┤\n",
              "│ dense (<span style=\"color: #0087ff; text-decoration-color: #0087ff\">Dense</span>)                        │ (<span style=\"color: #00d7ff; text-decoration-color: #00d7ff\">None</span>, <span style=\"color: #00af00; text-decoration-color: #00af00\">512</span>)                 │       <span style=\"color: #00af00; text-decoration-color: #00af00\">1,049,088</span> │\n",
              "├──────────────────────────────────────┼─────────────────────────────┼─────────────────┤\n",
              "│ dense_1 (<span style=\"color: #0087ff; text-decoration-color: #0087ff\">Dense</span>)                      │ (<span style=\"color: #00d7ff; text-decoration-color: #00d7ff\">None</span>, <span style=\"color: #00af00; text-decoration-color: #00af00\">1</span>)                   │             <span style=\"color: #00af00; text-decoration-color: #00af00\">513</span> │\n",
              "└──────────────────────────────────────┴─────────────────────────────┴─────────────────┘\n",
              "</pre>\n"
            ]
          },
          "metadata": {}
        },
        {
          "output_type": "display_data",
          "data": {
            "text/plain": [
              "\u001b[1m Total params: \u001b[0m\u001b[38;5;34m24,637,313\u001b[0m (93.98 MB)\n"
            ],
            "text/html": [
              "<pre style=\"white-space:pre;overflow-x:auto;line-height:normal;font-family:Menlo,'DejaVu Sans Mono',consolas,'Courier New',monospace\"><span style=\"font-weight: bold\"> Total params: </span><span style=\"color: #00af00; text-decoration-color: #00af00\">24,637,313</span> (93.98 MB)\n",
              "</pre>\n"
            ]
          },
          "metadata": {}
        },
        {
          "output_type": "display_data",
          "data": {
            "text/plain": [
              "\u001b[1m Trainable params: \u001b[0m\u001b[38;5;34m1,049,601\u001b[0m (4.00 MB)\n"
            ],
            "text/html": [
              "<pre style=\"white-space:pre;overflow-x:auto;line-height:normal;font-family:Menlo,'DejaVu Sans Mono',consolas,'Courier New',monospace\"><span style=\"font-weight: bold\"> Trainable params: </span><span style=\"color: #00af00; text-decoration-color: #00af00\">1,049,601</span> (4.00 MB)\n",
              "</pre>\n"
            ]
          },
          "metadata": {}
        },
        {
          "output_type": "display_data",
          "data": {
            "text/plain": [
              "\u001b[1m Non-trainable params: \u001b[0m\u001b[38;5;34m23,587,712\u001b[0m (89.98 MB)\n"
            ],
            "text/html": [
              "<pre style=\"white-space:pre;overflow-x:auto;line-height:normal;font-family:Menlo,'DejaVu Sans Mono',consolas,'Courier New',monospace\"><span style=\"font-weight: bold\"> Non-trainable params: </span><span style=\"color: #00af00; text-decoration-color: #00af00\">23,587,712</span> (89.98 MB)\n",
              "</pre>\n"
            ]
          },
          "metadata": {}
        }
      ]
    },
    {
      "cell_type": "code",
      "source": [
        "from keras.optimizers import Adam\n",
        "resnet_model.compile(optimizer=Adam(learning_rate=0.001),\n",
        "                     loss='binary_crossentropy',metrics=['accuracy']) #binary_crossentropy - binary classification"
      ],
      "metadata": {
        "id": "OCZHJkrl9Qh4"
      },
      "execution_count": null,
      "outputs": []
    },
    {
      "cell_type": "code",
      "source": [
        "history = resnet_model.fit(train_data, epochs=3, validation_data=validation_data)"
      ],
      "metadata": {
        "id": "wsFLRK7i9Qj_",
        "colab": {
          "base_uri": "https://localhost:8080/"
        },
        "outputId": "52b93afd-28ac-4042-bbf5-d860fd0471aa"
      },
      "execution_count": null,
      "outputs": [
        {
          "output_type": "stream",
          "name": "stdout",
          "text": [
            "Epoch 1/3\n"
          ]
        },
        {
          "output_type": "stream",
          "name": "stderr",
          "text": [
            "/usr/local/lib/python3.10/dist-packages/keras/src/trainers/data_adapters/py_dataset_adapter.py:122: UserWarning: Your `PyDataset` class should call `super().__init__(**kwargs)` in its constructor. `**kwargs` can include `workers`, `use_multiprocessing`, `max_queue_size`. Do not pass these arguments to `fit()`, as they will be ignored.\n",
            "  self._warn_if_super_not_called()\n"
          ]
        },
        {
          "output_type": "stream",
          "name": "stdout",
          "text": [
            "\u001b[1m30/30\u001b[0m \u001b[32m━━━━━━━━━━━━━━━━━━━━\u001b[0m\u001b[37m\u001b[0m \u001b[1m456s\u001b[0m 13s/step - accuracy: 0.4672 - loss: 4.3981 - val_accuracy: 0.5381 - val_loss: 1.0702\n",
            "Epoch 2/3\n",
            "\u001b[1m30/30\u001b[0m \u001b[32m━━━━━━━━━━━━━━━━━━━━\u001b[0m\u001b[37m\u001b[0m \u001b[1m362s\u001b[0m 10s/step - accuracy: 0.6189 - loss: 0.7505 - val_accuracy: 0.6737 - val_loss: 0.6405\n",
            "Epoch 3/3\n",
            "\u001b[1m30/30\u001b[0m \u001b[32m━━━━━━━━━━━━━━━━━━━━\u001b[0m\u001b[37m\u001b[0m \u001b[1m314s\u001b[0m 10s/step - accuracy: 0.8740 - loss: 0.3535 - val_accuracy: 0.7966 - val_loss: 0.4434\n"
          ]
        }
      ]
    },
    {
      "cell_type": "code",
      "source": [
        "import matplotlib.pyplot as plt\n",
        "\n",
        "plt.plot(history.history['accuracy'],color='red',label='train')\n",
        "plt.plot(history.history['val_accuracy'],color='blue',label='validation')\n",
        "plt.legend()\n",
        "plt.show()"
      ],
      "metadata": {
        "id": "Pomf5lbC9uhq",
        "colab": {
          "base_uri": "https://localhost:8080/",
          "height": 430
        },
        "outputId": "97ceb4ca-c847-4823-d1a2-45f0374c7a64"
      },
      "execution_count": null,
      "outputs": [
        {
          "output_type": "display_data",
          "data": {
            "text/plain": [
              "<Figure size 640x480 with 1 Axes>"
            ],
            "image/png": "[encoded data removed]"
          },
          "metadata": {}
        }
      ]
    },
    {
      "cell_type": "code",
      "source": [
        "plt.plot(history.history['loss'],color='red',label='train')\n",
        "plt.plot(history.history['val_loss'],color='blue',label='validation')\n",
        "plt.legend()\n",
        "plt.show()"
      ],
      "metadata": {
        "id": "zkRUhSvY9ujt",
        "colab": {
          "base_uri": "https://localhost:8080/",
          "height": 430
        },
        "outputId": "ed59b3df-1f9e-4f9c-cd0d-08d0dcedbb6f"
      },
      "execution_count": null,
      "outputs": [
        {
          "output_type": "display_data",
          "data": {
            "text/plain": [
              "<Figure size 640x480 with 1 Axes>"
            ],
            "image/png": "[encoded data removed]"
          },
          "metadata": {}
        }
      ]
    },
    {
      "cell_type": "code",
      "source": [
        "test_datagen = ImageDataGenerator(rescale=1./255)\n",
        "test_data = test_datagen.flow_from_directory(\n",
        "    test_dir,\n",
        "    target_size=(256,256),\n",
        "    batch_size=32,\n",
        "    class_mode='binary'\n",
        ")"
      ],
      "metadata": {
        "id": "DEQZld0g9ull",
        "colab": {
          "base_uri": "https://localhost:8080/"
        },
        "outputId": "83fb3279-68af-4401-9870-2393ee91b7fe"
      },
      "execution_count": null,
      "outputs": [
        {
          "output_type": "stream",
          "name": "stdout",
          "text": [
            "Found 1115 images belonging to 2 classes.\n"
          ]
        }
      ]
    },
    {
      "cell_type": "code",
      "source": [
        "#predict the test data\n",
        "predictions = resnet_model.predict(test_data)\n",
        "print(predictions)"
      ],
      "metadata": {
        "id": "8mF5p7uJ9unY",
        "colab": {
          "base_uri": "https://localhost:8080/"
        },
        "outputId": "89a9d769-4a20-4cff-a105-03d499be5c6c"
      },
      "execution_count": null,
      "outputs": [
        {
          "output_type": "stream",
          "name": "stdout",
          "text": [
            "\u001b[1m35/35\u001b[0m \u001b[32m━━━━━━━━━━━━━━━━━━━━\u001b[0m\u001b[37m\u001b[0m \u001b[1m323s\u001b[0m 9s/step\n",
            "[[0.96494305]\n",
            " [0.02014273]\n",
            " [0.03061537]\n",
            " ...\n",
            " [0.50986224]\n",
            " [0.81646544]\n",
            " [0.52145106]]\n"
          ]
        }
      ]
    },
    {
      "cell_type": "code",
      "source": [
        "len(predictions)"
      ],
      "metadata": {
        "id": "LWqXS4Tm9upM",
        "colab": {
          "base_uri": "https://localhost:8080/"
        },
        "outputId": "49ec668b-9e6a-49c5-e2ac-33f4e2fad8ae"
      },
      "execution_count": null,
      "outputs": [
        {
          "output_type": "execute_result",
          "data": {
            "text/plain": [
              "1115"
            ]
          },
          "metadata": {},
          "execution_count": 18
        }
      ]
    },
    {
      "cell_type": "code",
      "source": [
        "from sklearn.metrics import confusion_matrix, classification_report\n",
        "\n",
        "# Assuming you have ground truth labels (true_labels) and predicted labels (predictions)\n",
        "true_labels = test_data.classes\n",
        "predicted_labels = (predictions > 0.5).astype(int)  # Adjust the threshold as needed\n",
        "\n",
        "# Calculate confusion matrix\n",
        "cm = confusion_matrix(true_labels, predicted_labels)\n",
        "\n",
        "# Print confusion matrix\n",
        "print(\"Confusion Matrix:\")\n",
        "print(cm)\n",
        "\n",
        "# Print classification report\n",
        "print(\"Classification Report:\")\n",
        "print(classification_report(true_labels, predicted_labels))"
      ],
      "metadata": {
        "colab": {
          "base_uri": "https://localhost:8080/"
        },
        "id": "VCNlrYhrk_3h",
        "outputId": "9a16bcf0-3711-4ad9-e32d-92bfe79edb75"
      },
      "execution_count": null,
      "outputs": [
        {
          "output_type": "stream",
          "name": "stdout",
          "text": [
            "Confusion Matrix:\n",
            "[[256 295]\n",
            " [277 287]]\n",
            "Classification Report:\n",
            "              precision    recall  f1-score   support\n",
            "\n",
            "           0       0.48      0.46      0.47       551\n",
            "           1       0.49      0.51      0.50       564\n",
            "\n",
            "    accuracy                           0.49      1115\n",
            "   macro avg       0.49      0.49      0.49      1115\n",
            "weighted avg       0.49      0.49      0.49      1115\n",
            "\n"
          ]
        }
      ]
    }
  ]
}